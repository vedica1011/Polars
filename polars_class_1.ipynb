{
 "cells": [
  {
   "cell_type": "code",
   "execution_count": 1,
   "id": "f9272cca",
   "metadata": {},
   "outputs": [],
   "source": [
    "import polars as pl\n",
    "import pandas as pd\n",
    "import modin.pandas as mpd\n",
    "import numpy as np\n",
    "from distributed import Client\n",
    "\n",
    "client = Client()"
   ]
  },
  {
   "cell_type": "code",
   "execution_count": 2,
   "id": "d4ba0bae",
   "metadata": {},
   "outputs": [
    {
     "name": "stdout",
     "output_type": "stream",
     "text": [
      "--------Version info---------\n",
      "Polars:              0.19.1\n",
      "Index type:          UInt32\n",
      "Platform:            Windows-10-10.0.22621-SP0\n",
      "Python:              3.11.3 | packaged by Anaconda, Inc. | (main, Apr 19 2023, 23:46:34) [MSC v.1916 64 bit (AMD64)]\n",
      "\n",
      "----Optional dependencies----\n",
      "adbc_driver_sqlite:  <not installed>\n",
      "cloudpickle:         2.2.1\n",
      "connectorx:          0.3.2\n",
      "deltalake:           <not installed>\n",
      "fsspec:              2023.3.0\n",
      "matplotlib:          3.7.1\n",
      "numpy:               1.24.3\n",
      "pandas:              2.0.3\n",
      "pyarrow:             11.0.0\n",
      "pydantic:            <not installed>\n",
      "sqlalchemy:          1.4.39\n",
      "xlsx2csv:            0.8.1\n",
      "xlsxwriter:          3.1.2\n"
     ]
    }
   ],
   "source": [
    "pl.show_versions()"
   ]
  },
  {
   "cell_type": "code",
   "execution_count": 3,
   "id": "d08571b9",
   "metadata": {},
   "outputs": [],
   "source": [
    "file_path = r\"D:\\VED\\Polars\\notebooks\\data\\nyc_trip_data_1k.csv\""
   ]
  },
  {
   "cell_type": "code",
   "execution_count": 4,
   "id": "b82101e9",
   "metadata": {},
   "outputs": [
    {
     "name": "stdout",
     "output_type": "stream",
     "text": [
      "CPU times: total: 0 ns\n",
      "Wall time: 16.6 ms\n"
     ]
    },
    {
     "data": {
      "text/html": [
       "<div><style>\n",
       ".dataframe > thead > tr > th,\n",
       ".dataframe > tbody > tr > td {\n",
       "  text-align: right;\n",
       "  white-space: pre-wrap;\n",
       "}\n",
       "</style>\n",
       "<small>shape: (5, 7)</small><table border=\"1\" class=\"dataframe\"><thead><tr><th>VendorID</th><th>pickup</th><th>dropoff</th><th>passenger_count</th><th>trip_distance</th><th>fare_amount</th><th>tip_amount</th></tr><tr><td>str</td><td>datetime[μs]</td><td>datetime[μs]</td><td>f64</td><td>f64</td><td>f64</td><td>f64</td></tr></thead><tbody><tr><td>&quot;id1&quot;</td><td>2022-01-01 00:04:14</td><td>2022-01-01 00:26:12</td><td>1.0</td><td>10.83</td><td>31.0</td><td>0.0</td></tr><tr><td>&quot;id2&quot;</td><td>2022-01-01 00:32:17</td><td>2022-01-01 00:49:23</td><td>1.0</td><td>3.97</td><td>14.5</td><td>3.66</td></tr><tr><td>&quot;id8&quot;</td><td>2022-01-01 00:40:58</td><td>2022-01-01 01:00:59</td><td>4.0</td><td>8.44</td><td>25.5</td><td>0.0</td></tr><tr><td>&quot;id0&quot;</td><td>2022-01-01 00:55:13</td><td>2022-01-01 01:25:49</td><td>1.0</td><td>12.61</td><td>37.5</td><td>12.39</td></tr><tr><td>&quot;id1&quot;</td><td>2022-01-01 00:55:24</td><td>2022-01-01 01:00:45</td><td>1.0</td><td>1.49</td><td>6.5</td><td>0.0</td></tr></tbody></table></div>"
      ],
      "text/plain": [
       "shape: (5, 7)\n",
       "┌──────────┬─────────────────────┬─────────────────────┬─────────────────┬───────────────┬─────────────┬────────────┐\n",
       "│ VendorID ┆ pickup              ┆ dropoff             ┆ passenger_count ┆ trip_distance ┆ fare_amount ┆ tip_amount │\n",
       "│ ---      ┆ ---                 ┆ ---                 ┆ ---             ┆ ---           ┆ ---         ┆ ---        │\n",
       "│ str      ┆ datetime[μs]        ┆ datetime[μs]        ┆ f64             ┆ f64           ┆ f64         ┆ f64        │\n",
       "╞══════════╪═════════════════════╪═════════════════════╪═════════════════╪═══════════════╪═════════════╪════════════╡\n",
       "│ id1      ┆ 2022-01-01 00:04:14 ┆ 2022-01-01 00:26:12 ┆ 1.0             ┆ 10.83         ┆ 31.0        ┆ 0.0        │\n",
       "│ id2      ┆ 2022-01-01 00:32:17 ┆ 2022-01-01 00:49:23 ┆ 1.0             ┆ 3.97          ┆ 14.5        ┆ 3.66       │\n",
       "│ id8      ┆ 2022-01-01 00:40:58 ┆ 2022-01-01 01:00:59 ┆ 4.0             ┆ 8.44          ┆ 25.5        ┆ 0.0        │\n",
       "│ id0      ┆ 2022-01-01 00:55:13 ┆ 2022-01-01 01:25:49 ┆ 1.0             ┆ 12.61         ┆ 37.5        ┆ 12.39      │\n",
       "│ id1      ┆ 2022-01-01 00:55:24 ┆ 2022-01-01 01:00:45 ┆ 1.0             ┆ 1.49          ┆ 6.5         ┆ 0.0        │\n",
       "└──────────┴─────────────────────┴─────────────────────┴─────────────────┴───────────────┴─────────────┴────────────┘"
      ]
     },
     "execution_count": 4,
     "metadata": {},
     "output_type": "execute_result"
    }
   ],
   "source": [
    "%%time\n",
    "pl.scan_csv(file_path,try_parse_dates=True).head().collect()"
   ]
  },
  {
   "cell_type": "code",
   "execution_count": 6,
   "id": "0a893511",
   "metadata": {},
   "outputs": [
    {
     "name": "stdout",
     "output_type": "stream",
     "text": [
      "CPU times: total: 0 ns\n",
      "Wall time: 11.8 ms\n"
     ]
    },
    {
     "data": {
      "text/html": [
       "<div>\n",
       "<style scoped>\n",
       "    .dataframe tbody tr th:only-of-type {\n",
       "        vertical-align: middle;\n",
       "    }\n",
       "\n",
       "    .dataframe tbody tr th {\n",
       "        vertical-align: top;\n",
       "    }\n",
       "\n",
       "    .dataframe thead th {\n",
       "        text-align: right;\n",
       "    }\n",
       "</style>\n",
       "<table border=\"1\" class=\"dataframe\">\n",
       "  <thead>\n",
       "    <tr style=\"text-align: right;\">\n",
       "      <th></th>\n",
       "      <th>VendorID</th>\n",
       "      <th>pickup</th>\n",
       "      <th>dropoff</th>\n",
       "      <th>passenger_count</th>\n",
       "      <th>trip_distance</th>\n",
       "      <th>fare_amount</th>\n",
       "      <th>tip_amount</th>\n",
       "    </tr>\n",
       "  </thead>\n",
       "  <tbody>\n",
       "    <tr>\n",
       "      <th>0</th>\n",
       "      <td>id1</td>\n",
       "      <td>2022-01-01T00:04:14.000000</td>\n",
       "      <td>2022-01-01T00:26:12.000000</td>\n",
       "      <td>1.0</td>\n",
       "      <td>10.83</td>\n",
       "      <td>31.0</td>\n",
       "      <td>0.00</td>\n",
       "    </tr>\n",
       "    <tr>\n",
       "      <th>1</th>\n",
       "      <td>id2</td>\n",
       "      <td>2022-01-01T00:32:17.000000</td>\n",
       "      <td>2022-01-01T00:49:23.000000</td>\n",
       "      <td>1.0</td>\n",
       "      <td>3.97</td>\n",
       "      <td>14.5</td>\n",
       "      <td>3.66</td>\n",
       "    </tr>\n",
       "    <tr>\n",
       "      <th>2</th>\n",
       "      <td>id8</td>\n",
       "      <td>2022-01-01T00:40:58.000000</td>\n",
       "      <td>2022-01-01T01:00:59.000000</td>\n",
       "      <td>4.0</td>\n",
       "      <td>8.44</td>\n",
       "      <td>25.5</td>\n",
       "      <td>0.00</td>\n",
       "    </tr>\n",
       "    <tr>\n",
       "      <th>3</th>\n",
       "      <td>id0</td>\n",
       "      <td>2022-01-01T00:55:13.000000</td>\n",
       "      <td>2022-01-01T01:25:49.000000</td>\n",
       "      <td>1.0</td>\n",
       "      <td>12.61</td>\n",
       "      <td>37.5</td>\n",
       "      <td>12.39</td>\n",
       "    </tr>\n",
       "    <tr>\n",
       "      <th>4</th>\n",
       "      <td>id1</td>\n",
       "      <td>2022-01-01T00:55:24.000000</td>\n",
       "      <td>2022-01-01T01:00:45.000000</td>\n",
       "      <td>1.0</td>\n",
       "      <td>1.49</td>\n",
       "      <td>6.5</td>\n",
       "      <td>0.00</td>\n",
       "    </tr>\n",
       "  </tbody>\n",
       "</table>\n",
       "</div>"
      ],
      "text/plain": [
       "  VendorID                      pickup                     dropoff  \\\n",
       "0      id1  2022-01-01T00:04:14.000000  2022-01-01T00:26:12.000000   \n",
       "1      id2  2022-01-01T00:32:17.000000  2022-01-01T00:49:23.000000   \n",
       "2      id8  2022-01-01T00:40:58.000000  2022-01-01T01:00:59.000000   \n",
       "3      id0  2022-01-01T00:55:13.000000  2022-01-01T01:25:49.000000   \n",
       "4      id1  2022-01-01T00:55:24.000000  2022-01-01T01:00:45.000000   \n",
       "\n",
       "   passenger_count  trip_distance  fare_amount  tip_amount  \n",
       "0              1.0          10.83         31.0        0.00  \n",
       "1              1.0           3.97         14.5        3.66  \n",
       "2              4.0           8.44         25.5        0.00  \n",
       "3              1.0          12.61         37.5       12.39  \n",
       "4              1.0           1.49          6.5        0.00  "
      ]
     },
     "execution_count": 6,
     "metadata": {},
     "output_type": "execute_result"
    }
   ],
   "source": [
    "%%time\n",
    "pd.read_csv(file_path,parse_dates=True).head()"
   ]
  },
  {
   "cell_type": "code",
   "execution_count": 7,
   "id": "7de20961",
   "metadata": {},
   "outputs": [
    {
     "name": "stdout",
     "output_type": "stream",
     "text": [
      "CPU times: total: 0 ns\n",
      "Wall time: 81.6 ms\n"
     ]
    },
    {
     "data": {
      "text/html": [
       "<div>\n",
       "<style scoped>\n",
       "    .dataframe tbody tr th:only-of-type {\n",
       "        vertical-align: middle;\n",
       "    }\n",
       "\n",
       "    .dataframe tbody tr th {\n",
       "        vertical-align: top;\n",
       "    }\n",
       "\n",
       "    .dataframe thead th {\n",
       "        text-align: right;\n",
       "    }\n",
       "</style>\n",
       "<table border=\"1\" class=\"dataframe\">\n",
       "  <thead>\n",
       "    <tr style=\"text-align: right;\">\n",
       "      <th></th>\n",
       "      <th>VendorID</th>\n",
       "      <th>pickup</th>\n",
       "      <th>dropoff</th>\n",
       "      <th>passenger_count</th>\n",
       "      <th>trip_distance</th>\n",
       "      <th>fare_amount</th>\n",
       "      <th>tip_amount</th>\n",
       "    </tr>\n",
       "  </thead>\n",
       "  <tbody>\n",
       "    <tr>\n",
       "      <th>0</th>\n",
       "      <td>id1</td>\n",
       "      <td>2022-01-01 00:04:14</td>\n",
       "      <td>2022-01-01 00:26:12</td>\n",
       "      <td>1.0</td>\n",
       "      <td>10.83</td>\n",
       "      <td>31.0</td>\n",
       "      <td>0.00</td>\n",
       "    </tr>\n",
       "    <tr>\n",
       "      <th>1</th>\n",
       "      <td>id2</td>\n",
       "      <td>2022-01-01 00:32:17</td>\n",
       "      <td>2022-01-01 00:49:23</td>\n",
       "      <td>1.0</td>\n",
       "      <td>3.97</td>\n",
       "      <td>14.5</td>\n",
       "      <td>3.66</td>\n",
       "    </tr>\n",
       "    <tr>\n",
       "      <th>2</th>\n",
       "      <td>id8</td>\n",
       "      <td>2022-01-01 00:40:58</td>\n",
       "      <td>2022-01-01 01:00:59</td>\n",
       "      <td>4.0</td>\n",
       "      <td>8.44</td>\n",
       "      <td>25.5</td>\n",
       "      <td>0.00</td>\n",
       "    </tr>\n",
       "    <tr>\n",
       "      <th>3</th>\n",
       "      <td>id0</td>\n",
       "      <td>2022-01-01 00:55:13</td>\n",
       "      <td>2022-01-01 01:25:49</td>\n",
       "      <td>1.0</td>\n",
       "      <td>12.61</td>\n",
       "      <td>37.5</td>\n",
       "      <td>12.39</td>\n",
       "    </tr>\n",
       "    <tr>\n",
       "      <th>4</th>\n",
       "      <td>id1</td>\n",
       "      <td>2022-01-01 00:55:24</td>\n",
       "      <td>2022-01-01 01:00:45</td>\n",
       "      <td>1.0</td>\n",
       "      <td>1.49</td>\n",
       "      <td>6.5</td>\n",
       "      <td>0.00</td>\n",
       "    </tr>\n",
       "  </tbody>\n",
       "</table>\n",
       "</div>"
      ],
      "text/plain": [
       "  VendorID              pickup             dropoff  passenger_count  \\\n",
       "0      id1 2022-01-01 00:04:14 2022-01-01 00:26:12              1.0   \n",
       "1      id2 2022-01-01 00:32:17 2022-01-01 00:49:23              1.0   \n",
       "2      id8 2022-01-01 00:40:58 2022-01-01 01:00:59              4.0   \n",
       "3      id0 2022-01-01 00:55:13 2022-01-01 01:25:49              1.0   \n",
       "4      id1 2022-01-01 00:55:24 2022-01-01 01:00:45              1.0   \n",
       "\n",
       "   trip_distance  fare_amount  tip_amount  \n",
       "0          10.83         31.0        0.00  \n",
       "1           3.97         14.5        3.66  \n",
       "2           8.44         25.5        0.00  \n",
       "3          12.61         37.5       12.39  \n",
       "4           1.49          6.5        0.00  "
      ]
     },
     "execution_count": 7,
     "metadata": {},
     "output_type": "execute_result"
    }
   ],
   "source": [
    "%%time\n",
    "pd.read_csv(file_path,parse_dates=True,engine='pyarrow').head()"
   ]
  },
  {
   "cell_type": "code",
   "execution_count": 8,
   "id": "2b8ae354",
   "metadata": {},
   "outputs": [
    {
     "name": "stdout",
     "output_type": "stream",
     "text": [
      "CPU times: total: 15.6 ms\n",
      "Wall time: 445 ms\n"
     ]
    },
    {
     "data": {
      "text/html": [
       "<div>\n",
       "<style scoped>\n",
       "    .dataframe tbody tr th:only-of-type {\n",
       "        vertical-align: middle;\n",
       "    }\n",
       "\n",
       "    .dataframe tbody tr th {\n",
       "        vertical-align: top;\n",
       "    }\n",
       "\n",
       "    .dataframe thead th {\n",
       "        text-align: right;\n",
       "    }\n",
       "</style>\n",
       "<table border=\"1\" class=\"dataframe\">\n",
       "  <thead>\n",
       "    <tr style=\"text-align: right;\">\n",
       "      <th></th>\n",
       "      <th>VendorID</th>\n",
       "      <th>pickup</th>\n",
       "      <th>dropoff</th>\n",
       "      <th>passenger_count</th>\n",
       "      <th>trip_distance</th>\n",
       "      <th>fare_amount</th>\n",
       "      <th>tip_amount</th>\n",
       "    </tr>\n",
       "  </thead>\n",
       "  <tbody>\n",
       "    <tr>\n",
       "      <th>0</th>\n",
       "      <td>id1</td>\n",
       "      <td>2022-01-01T00:04:14.000000</td>\n",
       "      <td>2022-01-01T00:26:12.000000</td>\n",
       "      <td>1.0</td>\n",
       "      <td>10.83</td>\n",
       "      <td>31.0</td>\n",
       "      <td>0.00</td>\n",
       "    </tr>\n",
       "    <tr>\n",
       "      <th>1</th>\n",
       "      <td>id2</td>\n",
       "      <td>2022-01-01T00:32:17.000000</td>\n",
       "      <td>2022-01-01T00:49:23.000000</td>\n",
       "      <td>1.0</td>\n",
       "      <td>3.97</td>\n",
       "      <td>14.5</td>\n",
       "      <td>3.66</td>\n",
       "    </tr>\n",
       "    <tr>\n",
       "      <th>2</th>\n",
       "      <td>id8</td>\n",
       "      <td>2022-01-01T00:40:58.000000</td>\n",
       "      <td>2022-01-01T01:00:59.000000</td>\n",
       "      <td>4.0</td>\n",
       "      <td>8.44</td>\n",
       "      <td>25.5</td>\n",
       "      <td>0.00</td>\n",
       "    </tr>\n",
       "    <tr>\n",
       "      <th>3</th>\n",
       "      <td>id0</td>\n",
       "      <td>2022-01-01T00:55:13.000000</td>\n",
       "      <td>2022-01-01T01:25:49.000000</td>\n",
       "      <td>1.0</td>\n",
       "      <td>12.61</td>\n",
       "      <td>37.5</td>\n",
       "      <td>12.39</td>\n",
       "    </tr>\n",
       "    <tr>\n",
       "      <th>4</th>\n",
       "      <td>id1</td>\n",
       "      <td>2022-01-01T00:55:24.000000</td>\n",
       "      <td>2022-01-01T01:00:45.000000</td>\n",
       "      <td>1.0</td>\n",
       "      <td>1.49</td>\n",
       "      <td>6.5</td>\n",
       "      <td>0.00</td>\n",
       "    </tr>\n",
       "  </tbody>\n",
       "</table>\n",
       "</div>"
      ],
      "text/plain": [
       "  VendorID                      pickup                     dropoff  \\\n",
       "0      id1  2022-01-01T00:04:14.000000  2022-01-01T00:26:12.000000   \n",
       "1      id2  2022-01-01T00:32:17.000000  2022-01-01T00:49:23.000000   \n",
       "2      id8  2022-01-01T00:40:58.000000  2022-01-01T01:00:59.000000   \n",
       "3      id0  2022-01-01T00:55:13.000000  2022-01-01T01:25:49.000000   \n",
       "4      id1  2022-01-01T00:55:24.000000  2022-01-01T01:00:45.000000   \n",
       "\n",
       "   passenger_count  trip_distance  fare_amount  tip_amount  \n",
       "0              1.0          10.83         31.0        0.00  \n",
       "1              1.0           3.97         14.5        3.66  \n",
       "2              4.0           8.44         25.5        0.00  \n",
       "3              1.0          12.61         37.5       12.39  \n",
       "4              1.0           1.49          6.5        0.00  "
      ]
     },
     "execution_count": 8,
     "metadata": {},
     "output_type": "execute_result"
    }
   ],
   "source": [
    "%%time\n",
    "mpd.read_csv(file_path,parse_dates=True).head()"
   ]
  },
  {
   "cell_type": "code",
   "execution_count": 14,
   "id": "a3d2bff8",
   "metadata": {},
   "outputs": [
    {
     "name": "stdout",
     "output_type": "stream",
     "text": [
      "CPU times: total: 0 ns\n",
      "Wall time: 6.66 ms\n"
     ]
    }
   ],
   "source": [
    "%%time\n",
    "df_pd = pd.read_csv(file_path,parse_dates=True).groupby(\"passenger_count\").agg({\"fare_amount\":\"mean\"})"
   ]
  },
  {
   "cell_type": "code",
   "execution_count": 13,
   "id": "9dcc4c9f",
   "metadata": {},
   "outputs": [
    {
     "name": "stdout",
     "output_type": "stream",
     "text": [
      "CPU times: total: 0 ns\n",
      "Wall time: 4.29 ms\n"
     ]
    }
   ],
   "source": [
    "%%time\n",
    "df_pl = pl.scan_csv(file_path,try_parse_dates=True).group_by(\"passenger_count\").agg(\n",
    "[pl.col(\"fare_amount\").mean()])"
   ]
  },
  {
   "cell_type": "code",
   "execution_count": 15,
   "id": "959c8f73",
   "metadata": {},
   "outputs": [
    {
     "name": "stdout",
     "output_type": "stream",
     "text": [
      "CPU times: total: 0 ns\n",
      "Wall time: 7.05 ms\n"
     ]
    }
   ],
   "source": [
    "%%time\n",
    "df_pd = pd.read_csv(file_path,parse_dates=True,engine='pyarrow').groupby(\"passenger_count\").agg({\"fare_amount\":\"mean\"})"
   ]
  },
  {
   "cell_type": "code",
   "execution_count": 16,
   "id": "de56f3a4",
   "metadata": {},
   "outputs": [],
   "source": [
    "titanic_file = r\"D:\\VED\\Polars\\notebooks\\data\\titanic.csv\""
   ]
  },
  {
   "cell_type": "code",
   "execution_count": 17,
   "id": "1093d0f9",
   "metadata": {},
   "outputs": [
    {
     "name": "stdout",
     "output_type": "stream",
     "text": [
      "CPU times: total: 0 ns\n",
      "Wall time: 17.1 ms\n"
     ]
    }
   ],
   "source": [
    "%%time\n",
    "titanic_pl_df = pl.read_csv(titanic_file)"
   ]
  },
  {
   "cell_type": "code",
   "execution_count": 18,
   "id": "b3bc7c28",
   "metadata": {},
   "outputs": [
    {
     "data": {
      "text/html": [
       "<div><style>\n",
       ".dataframe > thead > tr > th,\n",
       ".dataframe > tbody > tr > td {\n",
       "  text-align: right;\n",
       "  white-space: pre-wrap;\n",
       "}\n",
       "</style>\n",
       "<small>shape: (5, 12)</small><table border=\"1\" class=\"dataframe\"><thead><tr><th>PassengerId</th><th>Survived</th><th>Pclass</th><th>Name</th><th>Sex</th><th>Age</th><th>SibSp</th><th>Parch</th><th>Ticket</th><th>Fare</th><th>Cabin</th><th>Embarked</th></tr><tr><td>i64</td><td>i64</td><td>i64</td><td>str</td><td>str</td><td>f64</td><td>i64</td><td>i64</td><td>str</td><td>f64</td><td>str</td><td>str</td></tr></thead><tbody><tr><td>1</td><td>0</td><td>3</td><td>&quot;Braund, Mr. Ow…</td><td>&quot;male&quot;</td><td>22.0</td><td>1</td><td>0</td><td>&quot;A/5 21171&quot;</td><td>7.25</td><td>null</td><td>&quot;S&quot;</td></tr><tr><td>2</td><td>1</td><td>1</td><td>&quot;Cumings, Mrs. …</td><td>&quot;female&quot;</td><td>38.0</td><td>1</td><td>0</td><td>&quot;PC 17599&quot;</td><td>71.2833</td><td>&quot;C85&quot;</td><td>&quot;C&quot;</td></tr><tr><td>3</td><td>1</td><td>3</td><td>&quot;Heikkinen, Mis…</td><td>&quot;female&quot;</td><td>26.0</td><td>0</td><td>0</td><td>&quot;STON/O2. 31012…</td><td>7.925</td><td>null</td><td>&quot;S&quot;</td></tr><tr><td>4</td><td>1</td><td>1</td><td>&quot;Futrelle, Mrs.…</td><td>&quot;female&quot;</td><td>35.0</td><td>1</td><td>0</td><td>&quot;113803&quot;</td><td>53.1</td><td>&quot;C123&quot;</td><td>&quot;S&quot;</td></tr><tr><td>5</td><td>0</td><td>3</td><td>&quot;Allen, Mr. Wil…</td><td>&quot;male&quot;</td><td>35.0</td><td>0</td><td>0</td><td>&quot;373450&quot;</td><td>8.05</td><td>null</td><td>&quot;S&quot;</td></tr></tbody></table></div>"
      ],
      "text/plain": [
       "shape: (5, 12)\n",
       "┌─────────────┬──────────┬────────┬────────────────────────────────┬───┬──────────────────┬─────────┬───────┬──────────┐\n",
       "│ PassengerId ┆ Survived ┆ Pclass ┆ Name                           ┆ … ┆ Ticket           ┆ Fare    ┆ Cabin ┆ Embarked │\n",
       "│ ---         ┆ ---      ┆ ---    ┆ ---                            ┆   ┆ ---              ┆ ---     ┆ ---   ┆ ---      │\n",
       "│ i64         ┆ i64      ┆ i64    ┆ str                            ┆   ┆ str              ┆ f64     ┆ str   ┆ str      │\n",
       "╞═════════════╪══════════╪════════╪════════════════════════════════╪═══╪══════════════════╪═════════╪═══════╪══════════╡\n",
       "│ 1           ┆ 0        ┆ 3      ┆ Braund, Mr. Owen Harris        ┆ … ┆ A/5 21171        ┆ 7.25    ┆ null  ┆ S        │\n",
       "│ 2           ┆ 1        ┆ 1      ┆ Cumings, Mrs. John Bradley     ┆ … ┆ PC 17599         ┆ 71.2833 ┆ C85   ┆ C        │\n",
       "│             ┆          ┆        ┆ (Flor…                         ┆   ┆                  ┆         ┆       ┆          │\n",
       "│ 3           ┆ 1        ┆ 3      ┆ Heikkinen, Miss. Laina         ┆ … ┆ STON/O2. 3101282 ┆ 7.925   ┆ null  ┆ S        │\n",
       "│ 4           ┆ 1        ┆ 1      ┆ Futrelle, Mrs. Jacques Heath   ┆ … ┆ 113803           ┆ 53.1    ┆ C123  ┆ S        │\n",
       "│             ┆          ┆        ┆ (Li…                           ┆   ┆                  ┆         ┆       ┆          │\n",
       "│ 5           ┆ 0        ┆ 3      ┆ Allen, Mr. William Henry       ┆ … ┆ 373450           ┆ 8.05    ┆ null  ┆ S        │\n",
       "└─────────────┴──────────┴────────┴────────────────────────────────┴───┴──────────────────┴─────────┴───────┴──────────┘"
      ]
     },
     "execution_count": 18,
     "metadata": {},
     "output_type": "execute_result"
    }
   ],
   "source": [
    "titanic_pl_df.head()"
   ]
  },
  {
   "cell_type": "code",
   "execution_count": 19,
   "id": "f4f1a66b",
   "metadata": {},
   "outputs": [
    {
     "data": {
      "text/plain": [
       "polars.dataframe.frame.DataFrame"
      ]
     },
     "execution_count": 19,
     "metadata": {},
     "output_type": "execute_result"
    }
   ],
   "source": [
    "type(titanic_pl_df)"
   ]
  },
  {
   "cell_type": "code",
   "execution_count": 20,
   "id": "cebf2df4",
   "metadata": {},
   "outputs": [
    {
     "data": {
      "text/plain": [
       "{'PassengerId': Int64,\n",
       " 'Survived': Int64,\n",
       " 'Pclass': Int64,\n",
       " 'Name': Utf8,\n",
       " 'Sex': Utf8,\n",
       " 'Age': Float64,\n",
       " 'SibSp': Int64,\n",
       " 'Parch': Int64,\n",
       " 'Ticket': Utf8,\n",
       " 'Fare': Float64,\n",
       " 'Cabin': Utf8,\n",
       " 'Embarked': Utf8}"
      ]
     },
     "execution_count": 20,
     "metadata": {},
     "output_type": "execute_result"
    }
   ],
   "source": [
    "titanic_pl_df.schema"
   ]
  },
  {
   "cell_type": "code",
   "execution_count": 21,
   "id": "0f5b50d0",
   "metadata": {},
   "outputs": [
    {
     "data": {
      "text/plain": [
       "[Int64,\n",
       " Int64,\n",
       " Int64,\n",
       " Utf8,\n",
       " Utf8,\n",
       " Float64,\n",
       " Int64,\n",
       " Int64,\n",
       " Utf8,\n",
       " Float64,\n",
       " Utf8,\n",
       " Utf8]"
      ]
     },
     "execution_count": 21,
     "metadata": {},
     "output_type": "execute_result"
    }
   ],
   "source": [
    "titanic_pl_df.dtypes"
   ]
  },
  {
   "cell_type": "code",
   "execution_count": 22,
   "id": "cfe4a9ee",
   "metadata": {},
   "outputs": [
    {
     "data": {
      "text/plain": [
       "Utf8"
      ]
     },
     "execution_count": 22,
     "metadata": {},
     "output_type": "execute_result"
    }
   ],
   "source": [
    "titanic_pl_df['Name'].dtype"
   ]
  },
  {
   "cell_type": "code",
   "execution_count": 23,
   "id": "220371a5",
   "metadata": {},
   "outputs": [
    {
     "data": {
      "text/plain": [
       "pyarrow.Table\n",
       "PassengerId: int64\n",
       "Survived: int64\n",
       "Pclass: int64\n",
       "Name: large_string\n",
       "Sex: large_string\n",
       "Age: double\n",
       "SibSp: int64\n",
       "Parch: int64\n",
       "Ticket: large_string\n",
       "Fare: double\n",
       "Cabin: large_string\n",
       "Embarked: large_string\n",
       "----\n",
       "PassengerId: [[1,2,3,4,5,...,887,888,889,890,891]]\n",
       "Survived: [[0,1,1,1,0,...,0,1,0,1,0]]\n",
       "Pclass: [[3,1,3,1,3,...,2,1,3,1,3]]\n",
       "Name: [[\"Braund, Mr. Owen Harris\",\"Cumings, Mrs. John Bradley (Florence Briggs Thayer)\",\"Heikkinen, Miss. Laina\",\"Futrelle, Mrs. Jacques Heath (Lily May Peel)\",\"Allen, Mr. William Henry\",...,\"Montvila, Rev. Juozas\",\"Graham, Miss. Margaret Edith\",\"Johnston, Miss. Catherine Helen \"Carrie\"\",\"Behr, Mr. Karl Howell\",\"Dooley, Mr. Patrick\"]]\n",
       "Sex: [[\"male\",\"female\",\"female\",\"female\",\"male\",...,\"male\",\"female\",\"female\",\"male\",\"male\"]]\n",
       "Age: [[22,38,26,35,35,...,27,19,null,26,32]]\n",
       "SibSp: [[1,1,0,1,0,...,0,0,1,0,0]]\n",
       "Parch: [[0,0,0,0,0,...,0,0,2,0,0]]\n",
       "Ticket: [[\"A/5 21171\",\"PC 17599\",\"STON/O2. 3101282\",\"113803\",\"373450\",...,\"211536\",\"112053\",\"W./C. 6607\",\"111369\",\"370376\"]]\n",
       "Fare: [[7.25,71.2833,7.925,53.1,8.05,...,13,30,23.45,30,7.75]]\n",
       "..."
      ]
     },
     "execution_count": 23,
     "metadata": {},
     "output_type": "execute_result"
    }
   ],
   "source": [
    "titanic_pl_df.to_arrow()"
   ]
  },
  {
   "cell_type": "code",
   "execution_count": 24,
   "id": "f7b1d0bb",
   "metadata": {},
   "outputs": [
    {
     "data": {
      "text/html": [
       "<div><style>\n",
       ".dataframe > thead > tr > th,\n",
       ".dataframe > tbody > tr > td {\n",
       "  text-align: right;\n",
       "  white-space: pre-wrap;\n",
       "}\n",
       "</style>\n",
       "<small>shape: (5, 12)</small><table border=\"1\" class=\"dataframe\"><thead><tr><th>PassengerId</th><th>Survived</th><th>Pclass</th><th>Name</th><th>Sex</th><th>Age</th><th>SibSp</th><th>Parch</th><th>Ticket</th><th>Fare</th><th>Cabin</th><th>Embarked</th></tr><tr><td>i64</td><td>i64</td><td>i64</td><td>str</td><td>str</td><td>f64</td><td>i64</td><td>i64</td><td>str</td><td>f64</td><td>str</td><td>str</td></tr></thead><tbody><tr><td>1</td><td>0</td><td>3</td><td>&quot;Braund, Mr. Ow…</td><td>&quot;male&quot;</td><td>22.0</td><td>1</td><td>0</td><td>&quot;A/5 21171&quot;</td><td>7.25</td><td>null</td><td>&quot;S&quot;</td></tr><tr><td>2</td><td>1</td><td>1</td><td>&quot;Cumings, Mrs. …</td><td>&quot;female&quot;</td><td>38.0</td><td>1</td><td>0</td><td>&quot;PC 17599&quot;</td><td>71.2833</td><td>&quot;C85&quot;</td><td>&quot;C&quot;</td></tr><tr><td>3</td><td>1</td><td>3</td><td>&quot;Heikkinen, Mis…</td><td>&quot;female&quot;</td><td>26.0</td><td>0</td><td>0</td><td>&quot;STON/O2. 31012…</td><td>7.925</td><td>null</td><td>&quot;S&quot;</td></tr><tr><td>4</td><td>1</td><td>1</td><td>&quot;Futrelle, Mrs.…</td><td>&quot;female&quot;</td><td>35.0</td><td>1</td><td>0</td><td>&quot;113803&quot;</td><td>53.1</td><td>&quot;C123&quot;</td><td>&quot;S&quot;</td></tr><tr><td>5</td><td>0</td><td>3</td><td>&quot;Allen, Mr. Wil…</td><td>&quot;male&quot;</td><td>35.0</td><td>0</td><td>0</td><td>&quot;373450&quot;</td><td>8.05</td><td>null</td><td>&quot;S&quot;</td></tr></tbody></table></div>"
      ],
      "text/plain": [
       "shape: (5, 12)\n",
       "┌─────────────┬──────────┬────────┬────────────────────────────────┬───┬──────────────────┬─────────┬───────┬──────────┐\n",
       "│ PassengerId ┆ Survived ┆ Pclass ┆ Name                           ┆ … ┆ Ticket           ┆ Fare    ┆ Cabin ┆ Embarked │\n",
       "│ ---         ┆ ---      ┆ ---    ┆ ---                            ┆   ┆ ---              ┆ ---     ┆ ---   ┆ ---      │\n",
       "│ i64         ┆ i64      ┆ i64    ┆ str                            ┆   ┆ str              ┆ f64     ┆ str   ┆ str      │\n",
       "╞═════════════╪══════════╪════════╪════════════════════════════════╪═══╪══════════════════╪═════════╪═══════╪══════════╡\n",
       "│ 1           ┆ 0        ┆ 3      ┆ Braund, Mr. Owen Harris        ┆ … ┆ A/5 21171        ┆ 7.25    ┆ null  ┆ S        │\n",
       "│ 2           ┆ 1        ┆ 1      ┆ Cumings, Mrs. John Bradley     ┆ … ┆ PC 17599         ┆ 71.2833 ┆ C85   ┆ C        │\n",
       "│             ┆          ┆        ┆ (Flor…                         ┆   ┆                  ┆         ┆       ┆          │\n",
       "│ 3           ┆ 1        ┆ 3      ┆ Heikkinen, Miss. Laina         ┆ … ┆ STON/O2. 3101282 ┆ 7.925   ┆ null  ┆ S        │\n",
       "│ 4           ┆ 1        ┆ 1      ┆ Futrelle, Mrs. Jacques Heath   ┆ … ┆ 113803           ┆ 53.1    ┆ C123  ┆ S        │\n",
       "│             ┆          ┆        ┆ (Li…                           ┆   ┆                  ┆         ┆       ┆          │\n",
       "│ 5           ┆ 0        ┆ 3      ┆ Allen, Mr. William Henry       ┆ … ┆ 373450           ┆ 8.05    ┆ null  ┆ S        │\n",
       "└─────────────┴──────────┴────────┴────────────────────────────────┴───┴──────────────────┴─────────┴───────┴──────────┘"
      ]
     },
     "execution_count": 24,
     "metadata": {},
     "output_type": "execute_result"
    }
   ],
   "source": [
    "titanic_pl_df.head()"
   ]
  },
  {
   "cell_type": "code",
   "execution_count": 25,
   "id": "84890143",
   "metadata": {},
   "outputs": [
    {
     "data": {
      "text/html": [
       "<div><style>\n",
       ".dataframe > thead > tr > th,\n",
       ".dataframe > tbody > tr > td {\n",
       "  text-align: right;\n",
       "  white-space: pre-wrap;\n",
       "}\n",
       "</style>\n",
       "<small>shape: (10,)</small><table border=\"1\" class=\"dataframe\"><thead><tr><th>Age</th></tr><tr><td>f64</td></tr></thead><tbody><tr><td>22.0</td></tr><tr><td>38.0</td></tr><tr><td>26.0</td></tr><tr><td>35.0</td></tr><tr><td>35.0</td></tr><tr><td>null</td></tr><tr><td>54.0</td></tr><tr><td>2.0</td></tr><tr><td>27.0</td></tr><tr><td>14.0</td></tr></tbody></table></div>"
      ],
      "text/plain": [
       "shape: (10,)\n",
       "Series: 'Age' [f64]\n",
       "[\n",
       "\t22.0\n",
       "\t38.0\n",
       "\t26.0\n",
       "\t35.0\n",
       "\t35.0\n",
       "\tnull\n",
       "\t54.0\n",
       "\t2.0\n",
       "\t27.0\n",
       "\t14.0\n",
       "]"
      ]
     },
     "execution_count": 25,
     "metadata": {},
     "output_type": "execute_result"
    }
   ],
   "source": [
    "titanic_pl_df['Age'].head()"
   ]
  },
  {
   "cell_type": "code",
   "execution_count": 26,
   "id": "5fe937da",
   "metadata": {},
   "outputs": [
    {
     "data": {
      "text/html": [
       "<div><style>\n",
       ".dataframe > thead > tr > th,\n",
       ".dataframe > tbody > tr > td {\n",
       "  text-align: right;\n",
       "  white-space: pre-wrap;\n",
       "}\n",
       "</style>\n",
       "<small>shape: (6,)</small><table border=\"1\" class=\"dataframe\"><thead><tr><th>Age</th></tr><tr><td>f64</td></tr></thead><tbody><tr><td>22.0</td></tr><tr><td>38.0</td></tr><tr><td>26.0</td></tr><tr><td>35.0</td></tr><tr><td>35.0</td></tr><tr><td>null</td></tr></tbody></table></div>"
      ],
      "text/plain": [
       "shape: (6,)\n",
       "Series: 'Age' [f64]\n",
       "[\n",
       "\t22.0\n",
       "\t38.0\n",
       "\t26.0\n",
       "\t35.0\n",
       "\t35.0\n",
       "\tnull\n",
       "]"
      ]
     },
     "execution_count": 26,
     "metadata": {},
     "output_type": "execute_result"
    }
   ],
   "source": [
    "titanic_pl_df.select(\"Age\").to_series().head(6)"
   ]
  },
  {
   "cell_type": "code",
   "execution_count": 28,
   "id": "1aba5e71",
   "metadata": {},
   "outputs": [
    {
     "data": {
      "text/html": [
       "<div><style>\n",
       ".dataframe > thead > tr > th,\n",
       ".dataframe > tbody > tr > td {\n",
       "  text-align: right;\n",
       "  white-space: pre-wrap;\n",
       "}\n",
       "</style>\n",
       "<small>shape: (6, 1)</small><table border=\"1\" class=\"dataframe\"><thead><tr><th>Age</th></tr><tr><td>f64</td></tr></thead><tbody><tr><td>22.0</td></tr><tr><td>38.0</td></tr><tr><td>26.0</td></tr><tr><td>35.0</td></tr><tr><td>35.0</td></tr><tr><td>null</td></tr></tbody></table></div>"
      ],
      "text/plain": [
       "shape: (6, 1)\n",
       "┌──────┐\n",
       "│ Age  │\n",
       "│ ---  │\n",
       "│ f64  │\n",
       "╞══════╡\n",
       "│ 22.0 │\n",
       "│ 38.0 │\n",
       "│ 26.0 │\n",
       "│ 35.0 │\n",
       "│ 35.0 │\n",
       "│ null │\n",
       "└──────┘"
      ]
     },
     "execution_count": 28,
     "metadata": {},
     "output_type": "execute_result"
    }
   ],
   "source": [
    "titanic_pl_df[\"Age\"].to_frame().head(6)"
   ]
  },
  {
   "cell_type": "code",
   "execution_count": 29,
   "id": "2468561b",
   "metadata": {},
   "outputs": [
    {
     "data": {
      "text/html": [
       "<div><style>\n",
       ".dataframe > thead > tr > th,\n",
       ".dataframe > tbody > tr > td {\n",
       "  text-align: right;\n",
       "  white-space: pre-wrap;\n",
       "}\n",
       "</style>\n",
       "<small>shape: (3,)</small><table border=\"1\" class=\"dataframe\"><thead><tr><th></th></tr><tr><td>i64</td></tr></thead><tbody><tr><td>10</td></tr><tr><td>20</td></tr><tr><td>30</td></tr></tbody></table></div>"
      ],
      "text/plain": [
       "shape: (3,)\n",
       "Series: '' [i64]\n",
       "[\n",
       "\t10\n",
       "\t20\n",
       "\t30\n",
       "]"
      ]
     },
     "execution_count": 29,
     "metadata": {},
     "output_type": "execute_result"
    }
   ],
   "source": [
    "data = [10,20,30]\n",
    "pl.Series(data)"
   ]
  },
  {
   "cell_type": "code",
   "execution_count": 30,
   "id": "47e7f1ac",
   "metadata": {},
   "outputs": [
    {
     "data": {
      "text/html": [
       "<div><style>\n",
       ".dataframe > thead > tr > th,\n",
       ".dataframe > tbody > tr > td {\n",
       "  text-align: right;\n",
       "  white-space: pre-wrap;\n",
       "}\n",
       "</style>\n",
       "<small>shape: (3,)</small><table border=\"1\" class=\"dataframe\"><thead><tr><th>col1</th></tr><tr><td>i64</td></tr></thead><tbody><tr><td>10</td></tr><tr><td>20</td></tr><tr><td>30</td></tr></tbody></table></div>"
      ],
      "text/plain": [
       "shape: (3,)\n",
       "Series: 'col1' [i64]\n",
       "[\n",
       "\t10\n",
       "\t20\n",
       "\t30\n",
       "]"
      ]
     },
     "execution_count": 30,
     "metadata": {},
     "output_type": "execute_result"
    }
   ],
   "source": [
    "pl.Series('col1',data)"
   ]
  },
  {
   "cell_type": "code",
   "execution_count": 32,
   "id": "92ee4567",
   "metadata": {},
   "outputs": [
    {
     "data": {
      "text/plain": [
       "[10, 20, 30]"
      ]
     },
     "execution_count": 32,
     "metadata": {},
     "output_type": "execute_result"
    }
   ],
   "source": [
    "pl.Series('col1',data).to_list()"
   ]
  },
  {
   "cell_type": "code",
   "execution_count": 33,
   "id": "a5e6194c",
   "metadata": {},
   "outputs": [
    {
     "data": {
      "text/html": [
       "<div><style>\n",
       ".dataframe > thead > tr > th,\n",
       ".dataframe > tbody > tr > td {\n",
       "  text-align: right;\n",
       "  white-space: pre-wrap;\n",
       "}\n",
       "</style>\n",
       "<small>shape: (3, 2)</small><table border=\"1\" class=\"dataframe\"><thead><tr><th>column_0</th><th>column_1</th></tr><tr><td>i64</td><td>i64</td></tr></thead><tbody><tr><td>10</td><td>100</td></tr><tr><td>20</td><td>200</td></tr><tr><td>30</td><td>300</td></tr></tbody></table></div>"
      ],
      "text/plain": [
       "shape: (3, 2)\n",
       "┌──────────┬──────────┐\n",
       "│ column_0 ┆ column_1 │\n",
       "│ ---      ┆ ---      │\n",
       "│ i64      ┆ i64      │\n",
       "╞══════════╪══════════╡\n",
       "│ 10       ┆ 100      │\n",
       "│ 20       ┆ 200      │\n",
       "│ 30       ┆ 300      │\n",
       "└──────────┴──────────┘"
      ]
     },
     "execution_count": 33,
     "metadata": {},
     "output_type": "execute_result"
    }
   ],
   "source": [
    "data = [[10,20,30],[100,200,300]]\n",
    "pl.DataFrame(data)"
   ]
  },
  {
   "cell_type": "code",
   "execution_count": 34,
   "id": "0c4b634e",
   "metadata": {},
   "outputs": [
    {
     "data": {
      "text/html": [
       "<div><style>\n",
       ".dataframe > thead > tr > th,\n",
       ".dataframe > tbody > tr > td {\n",
       "  text-align: right;\n",
       "  white-space: pre-wrap;\n",
       "}\n",
       "</style>\n",
       "<small>shape: (3, 2)</small><table border=\"1\" class=\"dataframe\"><thead><tr><th>col_1</th><th>col_2</th></tr><tr><td>i64</td><td>i64</td></tr></thead><tbody><tr><td>10</td><td>100</td></tr><tr><td>20</td><td>200</td></tr><tr><td>30</td><td>300</td></tr></tbody></table></div>"
      ],
      "text/plain": [
       "shape: (3, 2)\n",
       "┌───────┬───────┐\n",
       "│ col_1 ┆ col_2 │\n",
       "│ ---   ┆ ---   │\n",
       "│ i64   ┆ i64   │\n",
       "╞═══════╪═══════╡\n",
       "│ 10    ┆ 100   │\n",
       "│ 20    ┆ 200   │\n",
       "│ 30    ┆ 300   │\n",
       "└───────┴───────┘"
      ]
     },
     "execution_count": 34,
     "metadata": {},
     "output_type": "execute_result"
    }
   ],
   "source": [
    "data = [[10,20,30],[100,200,300]]\n",
    "pl.DataFrame(data,schema=['col_1','col_2'])"
   ]
  },
  {
   "cell_type": "code",
   "execution_count": 35,
   "id": "e2849ac0",
   "metadata": {},
   "outputs": [
    {
     "data": {
      "text/html": [
       "<div><style>\n",
       ".dataframe > thead > tr > th,\n",
       ".dataframe > tbody > tr > td {\n",
       "  text-align: right;\n",
       "  white-space: pre-wrap;\n",
       "}\n",
       "</style>\n",
       "<small>shape: (4, 2)</small><table border=\"1\" class=\"dataframe\"><thead><tr><th>col_1</th><th>col_2</th></tr><tr><td>i64</td><td>i64</td></tr></thead><tbody><tr><td>10</td><td>100</td></tr><tr><td>20</td><td>200</td></tr><tr><td>30</td><td>300</td></tr><tr><td>40</td><td>400</td></tr></tbody></table></div>"
      ],
      "text/plain": [
       "shape: (4, 2)\n",
       "┌───────┬───────┐\n",
       "│ col_1 ┆ col_2 │\n",
       "│ ---   ┆ ---   │\n",
       "│ i64   ┆ i64   │\n",
       "╞═══════╪═══════╡\n",
       "│ 10    ┆ 100   │\n",
       "│ 20    ┆ 200   │\n",
       "│ 30    ┆ 300   │\n",
       "│ 40    ┆ 400   │\n",
       "└───────┴───────┘"
      ]
     },
     "execution_count": 35,
     "metadata": {},
     "output_type": "execute_result"
    }
   ],
   "source": [
    "dict_data = {\"col_1\":[10,20,30,40],\n",
    "            \"col_2\":[100,200,300,400]}\n",
    "\n",
    "pl.DataFrame(dict_data)"
   ]
  },
  {
   "cell_type": "code",
   "execution_count": 36,
   "id": "21f200c1",
   "metadata": {},
   "outputs": [
    {
     "data": {
      "text/html": [
       "<div><style>\n",
       ".dataframe > thead > tr > th,\n",
       ".dataframe > tbody > tr > td {\n",
       "  text-align: right;\n",
       "  white-space: pre-wrap;\n",
       "}\n",
       "</style>\n",
       "<small>shape: (4, 2)</small><table border=\"1\" class=\"dataframe\"><thead><tr><th>col_1</th><th>col_2</th></tr><tr><td>i64</td><td>f64</td></tr></thead><tbody><tr><td>10</td><td>100.0</td></tr><tr><td>20</td><td>200.0</td></tr><tr><td>30</td><td>300.0</td></tr><tr><td>40</td><td>400.0</td></tr></tbody></table></div>"
      ],
      "text/plain": [
       "shape: (4, 2)\n",
       "┌───────┬───────┐\n",
       "│ col_1 ┆ col_2 │\n",
       "│ ---   ┆ ---   │\n",
       "│ i64   ┆ f64   │\n",
       "╞═══════╪═══════╡\n",
       "│ 10    ┆ 100.0 │\n",
       "│ 20    ┆ 200.0 │\n",
       "│ 30    ┆ 300.0 │\n",
       "│ 40    ┆ 400.0 │\n",
       "└───────┴───────┘"
      ]
     },
     "execution_count": 36,
     "metadata": {},
     "output_type": "execute_result"
    }
   ],
   "source": [
    "pl.DataFrame(dict_data,schema={\"col_1\":pl.Int64,\"col_2\":pl.Float64})"
   ]
  },
  {
   "cell_type": "code",
   "execution_count": 37,
   "id": "e4c1c3ac",
   "metadata": {},
   "outputs": [
    {
     "data": {
      "text/plain": [
       "[{'col_1': 10, 'col_2': 100.0},\n",
       " {'col_1': 20, 'col_2': 200.0},\n",
       " {'col_1': 30, 'col_2': 300.0},\n",
       " {'col_1': 40, 'col_2': 400.0}]"
      ]
     },
     "execution_count": 37,
     "metadata": {},
     "output_type": "execute_result"
    }
   ],
   "source": [
    "pl.DataFrame(dict_data,schema={\"col_1\":pl.Int64,\"col_2\":pl.Float64}).to_dicts()"
   ]
  },
  {
   "cell_type": "code",
   "execution_count": 38,
   "id": "2d7c142c",
   "metadata": {},
   "outputs": [
    {
     "data": {
      "text/plain": [
       "array([[1, 0, 3, ..., 7.25, None, 'S'],\n",
       "       [2, 1, 1, ..., 71.2833, 'C85', 'C'],\n",
       "       [3, 1, 3, ..., 7.925, None, 'S'],\n",
       "       ...,\n",
       "       [889, 0, 3, ..., 23.45, None, 'S'],\n",
       "       [890, 1, 1, ..., 30.0, 'C148', 'C'],\n",
       "       [891, 0, 3, ..., 7.75, None, 'Q']], dtype=object)"
      ]
     },
     "execution_count": 38,
     "metadata": {},
     "output_type": "execute_result"
    }
   ],
   "source": [
    "np_arr = titanic_pl_df.to_numpy()\n",
    "np_arr"
   ]
  },
  {
   "cell_type": "code",
   "execution_count": 40,
   "id": "34fe4776",
   "metadata": {},
   "outputs": [
    {
     "data": {
      "text/html": [
       "<div><style>\n",
       ".dataframe > thead > tr > th,\n",
       ".dataframe > tbody > tr > td {\n",
       "  text-align: right;\n",
       "  white-space: pre-wrap;\n",
       "}\n",
       "</style>\n",
       "<small>shape: (5, 2)</small><table border=\"1\" class=\"dataframe\"><thead><tr><th>Age</th><th>Fare</th></tr><tr><td>f64</td><td>f64</td></tr></thead><tbody><tr><td>22.0</td><td>7.25</td></tr><tr><td>38.0</td><td>71.2833</td></tr><tr><td>26.0</td><td>7.925</td></tr><tr><td>35.0</td><td>53.1</td></tr><tr><td>35.0</td><td>8.05</td></tr></tbody></table></div>"
      ],
      "text/plain": [
       "shape: (5, 2)\n",
       "┌──────┬─────────┐\n",
       "│ Age  ┆ Fare    │\n",
       "│ ---  ┆ ---     │\n",
       "│ f64  ┆ f64     │\n",
       "╞══════╪═════════╡\n",
       "│ 22.0 ┆ 7.25    │\n",
       "│ 38.0 ┆ 71.2833 │\n",
       "│ 26.0 ┆ 7.925   │\n",
       "│ 35.0 ┆ 53.1    │\n",
       "│ 35.0 ┆ 8.05    │\n",
       "└──────┴─────────┘"
      ]
     },
     "execution_count": 40,
     "metadata": {},
     "output_type": "execute_result"
    }
   ],
   "source": [
    "titanic_pl_df.select(pl.col(pl.Float64)).head()"
   ]
  },
  {
   "cell_type": "code",
   "execution_count": 42,
   "id": "2e08c471",
   "metadata": {},
   "outputs": [
    {
     "name": "stdout",
     "output_type": "stream",
     "text": [
      "Rows: 891\n",
      "Columns: 12\n",
      "$ PassengerId <i64> 1, 2, 3, 4, 5, 6, 7, 8, 9, 10\n",
      "$ Survived    <i64> 0, 1, 1, 1, 0, 0, 0, 0, 1, 1\n",
      "$ Pclass      <i64> 3, 1, 3, 1, 3, 3, 1, 3, 3, 2\n",
      "$ Name        <str> Braund, Mr. Owen Harris, Cumings, Mrs. John Bradley (Florence Briggs Thayer), Heikkinen, Miss. Laina, Futrelle, Mrs. Jacques Heath (Lily May Peel), Allen, Mr. William Henry, Moran, Mr. James, McCarthy, Mr. Timothy J, Palsson, Master. Gosta Leonard, Johnson, Mrs. Oscar W (Elisabeth Vilhelmina Berg), Nasser, Mrs. Nicholas (Adele Achem)\n",
      "$ Sex         <str> male, female, female, female, male, male, male, male, female, female\n",
      "$ Age         <f64> 22.0, 38.0, 26.0, 35.0, 35.0, None, 54.0, 2.0, 27.0, 14.0\n",
      "$ SibSp       <i64> 1, 1, 0, 1, 0, 0, 0, 3, 0, 1\n",
      "$ Parch       <i64> 0, 0, 0, 0, 0, 0, 0, 1, 2, 0\n",
      "$ Ticket      <str> A/5 21171, PC 17599, STON/O2. 3101282, 113803, 373450, 330877, 17463, 349909, 347742, 237736\n",
      "$ Fare        <f64> 7.25, 71.2833, 7.925, 53.1, 8.05, 8.4583, 51.8625, 21.075, 11.1333, 30.0708\n",
      "$ Cabin       <str> None, C85, None, C123, None, None, E46, None, None, None\n",
      "$ Embarked    <str> S, C, S, S, S, Q, S, S, S, C\n",
      "\n"
     ]
    }
   ],
   "source": [
    "titanic_pl_df.glimpse()"
   ]
  },
  {
   "cell_type": "code",
   "execution_count": 44,
   "id": "ea129162",
   "metadata": {},
   "outputs": [
    {
     "data": {
      "text/html": [
       "<div><style>\n",
       ".dataframe > thead > tr > th,\n",
       ".dataframe > tbody > tr > td {\n",
       "  text-align: right;\n",
       "  white-space: pre-wrap;\n",
       "}\n",
       "</style>\n",
       "<small>shape: (20, 9)</small><table border=\"1\" class=\"dataframe\"><thead><tr><th>column_0</th><th>column_1</th><th>column_2</th><th>column_3</th><th>column_4</th><th>column_5</th><th>column_6</th><th>column_7</th><th>column_8</th></tr><tr><td>f64</td><td>f64</td><td>f64</td><td>f64</td><td>f64</td><td>f64</td><td>f64</td><td>f64</td><td>f64</td></tr></thead><tbody><tr><td>0.842078</td><td>-0.743564</td><td>-0.414251</td><td>-0.527671</td><td>2.089053</td><td>-0.581116</td><td>0.810875</td><td>-0.317421</td><td>0.92333</td></tr><tr><td>1.584556</td><td>0.393231</td><td>-0.324836</td><td>-1.687817</td><td>-0.069407</td><td>0.391427</td><td>-0.581061</td><td>-0.745725</td><td>-0.420402</td></tr><tr><td>1.452314</td><td>1.060697</td><td>1.954097</td><td>-0.17774</td><td>0.223756</td><td>0.302126</td><td>0.460381</td><td>0.423654</td><td>0.951511</td></tr><tr><td>1.391898</td><td>-0.135494</td><td>-2.49187</td><td>-0.261944</td><td>0.537367</td><td>0.193231</td><td>0.207194</td><td>1.393968</td><td>0.769222</td></tr><tr><td>0.603001</td><td>1.159798</td><td>0.683506</td><td>0.707313</td><td>0.139954</td><td>0.814299</td><td>-1.350185</td><td>-0.58179</td><td>-1.036271</td></tr><tr><td>0.351608</td><td>0.918216</td><td>-0.156696</td><td>-0.111596</td><td>1.556042</td><td>0.191646</td><td>0.35233</td><td>0.001299</td><td>1.493128</td></tr><tr><td>-2.487439</td><td>0.502306</td><td>0.053</td><td>0.758009</td><td>-0.413099</td><td>-0.543596</td><td>-2.381085</td><td>0.557528</td><td>1.245077</td></tr><tr><td>-0.271813</td><td>0.456717</td><td>0.480346</td><td>-1.615808</td><td>-1.429976</td><td>0.052254</td><td>0.160651</td><td>0.519076</td><td>0.460575</td></tr><tr><td>-0.496083</td><td>0.713668</td><td>-1.080254</td><td>-0.860691</td><td>-0.777874</td><td>0.427846</td><td>0.287713</td><td>0.051013</td><td>-0.646932</td></tr><tr><td>0.022747</td><td>-0.671373</td><td>0.071917</td><td>0.000919</td><td>-0.106387</td><td>0.343379</td><td>0.271034</td><td>-1.92466</td><td>1.65071</td></tr><tr><td>-0.907826</td><td>2.692536</td><td>-0.709919</td><td>-1.230281</td><td>1.610574</td><td>-1.135599</td><td>0.477677</td><td>-1.841096</td><td>1.542014</td></tr><tr><td>1.528925</td><td>-1.11434</td><td>-0.714221</td><td>0.773191</td><td>-0.114219</td><td>-0.304941</td><td>0.982549</td><td>-0.319366</td><td>0.196411</td></tr><tr><td>-0.626533</td><td>-1.113386</td><td>0.118837</td><td>-0.486816</td><td>-1.283421</td><td>-0.345748</td><td>1.516763</td><td>-0.669088</td><td>-0.218365</td></tr><tr><td>0.318311</td><td>1.001433</td><td>-1.101337</td><td>0.392111</td><td>0.490887</td><td>0.03486</td><td>0.639232</td><td>0.152964</td><td>1.150604</td></tr><tr><td>0.583374</td><td>0.703785</td><td>0.107192</td><td>-0.36918</td><td>0.880933</td><td>3.007048</td><td>-0.645477</td><td>0.17783</td><td>0.026271</td></tr><tr><td>-0.699918</td><td>-0.919869</td><td>-0.468567</td><td>1.485571</td><td>1.792087</td><td>-1.274117</td><td>0.796562</td><td>0.864367</td><td>-0.119747</td></tr><tr><td>-0.572284</td><td>-0.416234</td><td>-0.878168</td><td>-0.640256</td><td>-0.613651</td><td>0.227916</td><td>-0.968396</td><td>-2.190301</td><td>-0.456257</td></tr><tr><td>-1.275851</td><td>-0.686311</td><td>0.121996</td><td>0.912074</td><td>-0.369557</td><td>0.326475</td><td>-0.253569</td><td>1.191834</td><td>0.015579</td></tr><tr><td>-1.253664</td><td>0.779316</td><td>-0.343618</td><td>-1.087754</td><td>0.421181</td><td>-0.457403</td><td>0.162555</td><td>-1.623727</td><td>0.384139</td></tr><tr><td>-1.106951</td><td>1.684217</td><td>-0.760812</td><td>-0.552576</td><td>0.253189</td><td>2.129316</td><td>-2.006817</td><td>-1.257621</td><td>-0.424687</td></tr></tbody></table></div>"
      ],
      "text/plain": [
       "shape: (20, 9)\n",
       "┌───────────┬───────────┬───────────┬───────────┬───┬───────────┬───────────┬───────────┬───────────┐\n",
       "│ column_0  ┆ column_1  ┆ column_2  ┆ column_3  ┆ … ┆ column_5  ┆ column_6  ┆ column_7  ┆ column_8  │\n",
       "│ ---       ┆ ---       ┆ ---       ┆ ---       ┆   ┆ ---       ┆ ---       ┆ ---       ┆ ---       │\n",
       "│ f64       ┆ f64       ┆ f64       ┆ f64       ┆   ┆ f64       ┆ f64       ┆ f64       ┆ f64       │\n",
       "╞═══════════╪═══════════╪═══════════╪═══════════╪═══╪═══════════╪═══════════╪═══════════╪═══════════╡\n",
       "│ 0.842078  ┆ -0.743564 ┆ -0.414251 ┆ -0.527671 ┆ … ┆ -0.581116 ┆ 0.810875  ┆ -0.317421 ┆ 0.92333   │\n",
       "│ 1.584556  ┆ 0.393231  ┆ -0.324836 ┆ -1.687817 ┆ … ┆ 0.391427  ┆ -0.581061 ┆ -0.745725 ┆ -0.420402 │\n",
       "│ 1.452314  ┆ 1.060697  ┆ 1.954097  ┆ -0.17774  ┆ … ┆ 0.302126  ┆ 0.460381  ┆ 0.423654  ┆ 0.951511  │\n",
       "│ 1.391898  ┆ -0.135494 ┆ -2.49187  ┆ -0.261944 ┆ … ┆ 0.193231  ┆ 0.207194  ┆ 1.393968  ┆ 0.769222  │\n",
       "│ …         ┆ …         ┆ …         ┆ …         ┆ … ┆ …         ┆ …         ┆ …         ┆ …         │\n",
       "│ -0.572284 ┆ -0.416234 ┆ -0.878168 ┆ -0.640256 ┆ … ┆ 0.227916  ┆ -0.968396 ┆ -2.190301 ┆ -0.456257 │\n",
       "│ -1.275851 ┆ -0.686311 ┆ 0.121996  ┆ 0.912074  ┆ … ┆ 0.326475  ┆ -0.253569 ┆ 1.191834  ┆ 0.015579  │\n",
       "│ -1.253664 ┆ 0.779316  ┆ -0.343618 ┆ -1.087754 ┆ … ┆ -0.457403 ┆ 0.162555  ┆ -1.623727 ┆ 0.384139  │\n",
       "│ -1.106951 ┆ 1.684217  ┆ -0.760812 ┆ -0.552576 ┆ … ┆ 2.129316  ┆ -2.006817 ┆ -1.257621 ┆ -0.424687 │\n",
       "└───────────┴───────────┴───────────┴───────────┴───┴───────────┴───────────┴───────────┴───────────┘"
      ]
     },
     "execution_count": 44,
     "metadata": {},
     "output_type": "execute_result"
    }
   ],
   "source": [
    "np_arr = np.random.standard_normal((20,9))\n",
    "pl.DataFrame(np_arr)"
   ]
  },
  {
   "cell_type": "code",
   "execution_count": 46,
   "id": "f53ac514",
   "metadata": {},
   "outputs": [
    {
     "data": {
      "text/plain": [
       "array([ 7.25  , 71.2833,  7.925 , 53.1   ,  8.05  ,  8.4583, 51.8625,\n",
       "       21.075 , 11.1333, 30.0708])"
      ]
     },
     "execution_count": 46,
     "metadata": {},
     "output_type": "execute_result"
    }
   ],
   "source": [
    "zero_arr = titanic_pl_df['Fare'].head().to_numpy(zero_copy_only=True)\n",
    "zero_arr"
   ]
  },
  {
   "cell_type": "code",
   "execution_count": 48,
   "id": "1cb56919",
   "metadata": {},
   "outputs": [
    {
     "ename": "ValueError",
     "evalue": "assignment destination is read-only",
     "output_type": "error",
     "traceback": [
      "\u001b[1;31m---------------------------------------------------------------------------\u001b[0m",
      "\u001b[1;31mValueError\u001b[0m                                Traceback (most recent call last)",
      "Cell \u001b[1;32mIn[48], line 1\u001b[0m\n\u001b[1;32m----> 1\u001b[0m zero_arr[\u001b[38;5;241m3\u001b[39m] \u001b[38;5;241m=\u001b[39m \u001b[38;5;241m777\u001b[39m\n",
      "\u001b[1;31mValueError\u001b[0m: assignment destination is read-only"
     ]
    }
   ],
   "source": [
    "zero_arr[3] = 777"
   ]
  },
  {
   "cell_type": "code",
   "execution_count": 51,
   "id": "3ffb56bb",
   "metadata": {},
   "outputs": [
    {
     "data": {
      "text/plain": [
       "array([ 7.25  , 71.2833,  7.925 , 53.1   ,  8.05  ,  8.4583, 51.8625,\n",
       "       21.075 , 11.1333, 30.0708])"
      ]
     },
     "execution_count": 51,
     "metadata": {},
     "output_type": "execute_result"
    }
   ],
   "source": [
    "zero_arr = titanic_pl_df['Fare'].head().to_numpy(zero_copy_only=False)\n",
    "zero_arr"
   ]
  },
  {
   "cell_type": "code",
   "execution_count": 52,
   "id": "510abcd8",
   "metadata": {},
   "outputs": [
    {
     "ename": "ValueError",
     "evalue": "assignment destination is read-only",
     "output_type": "error",
     "traceback": [
      "\u001b[1;31m---------------------------------------------------------------------------\u001b[0m",
      "\u001b[1;31mValueError\u001b[0m                                Traceback (most recent call last)",
      "Cell \u001b[1;32mIn[52], line 1\u001b[0m\n\u001b[1;32m----> 1\u001b[0m zero_arr[\u001b[38;5;241m3\u001b[39m] \u001b[38;5;241m=\u001b[39m \u001b[38;5;241m777\u001b[39m\n",
      "\u001b[1;31mValueError\u001b[0m: assignment destination is read-only"
     ]
    }
   ],
   "source": [
    "zero_arr[3] = 777"
   ]
  },
  {
   "cell_type": "code",
   "execution_count": 53,
   "id": "0139e0bf",
   "metadata": {},
   "outputs": [
    {
     "data": {
      "text/html": [
       "<div>\n",
       "<style scoped>\n",
       "    .dataframe tbody tr th:only-of-type {\n",
       "        vertical-align: middle;\n",
       "    }\n",
       "\n",
       "    .dataframe tbody tr th {\n",
       "        vertical-align: top;\n",
       "    }\n",
       "\n",
       "    .dataframe thead th {\n",
       "        text-align: right;\n",
       "    }\n",
       "</style>\n",
       "<table border=\"1\" class=\"dataframe\">\n",
       "  <thead>\n",
       "    <tr style=\"text-align: right;\">\n",
       "      <th></th>\n",
       "      <th>PassengerId</th>\n",
       "      <th>Survived</th>\n",
       "      <th>Pclass</th>\n",
       "      <th>Name</th>\n",
       "      <th>Sex</th>\n",
       "      <th>Age</th>\n",
       "      <th>SibSp</th>\n",
       "      <th>Parch</th>\n",
       "      <th>Ticket</th>\n",
       "      <th>Fare</th>\n",
       "      <th>Cabin</th>\n",
       "      <th>Embarked</th>\n",
       "    </tr>\n",
       "  </thead>\n",
       "  <tbody>\n",
       "    <tr>\n",
       "      <th>0</th>\n",
       "      <td>1</td>\n",
       "      <td>0</td>\n",
       "      <td>3</td>\n",
       "      <td>Braund, Mr. Owen Harris</td>\n",
       "      <td>male</td>\n",
       "      <td>22.0</td>\n",
       "      <td>1</td>\n",
       "      <td>0</td>\n",
       "      <td>A/5 21171</td>\n",
       "      <td>7.2500</td>\n",
       "      <td>&lt;NA&gt;</td>\n",
       "      <td>S</td>\n",
       "    </tr>\n",
       "    <tr>\n",
       "      <th>1</th>\n",
       "      <td>2</td>\n",
       "      <td>1</td>\n",
       "      <td>1</td>\n",
       "      <td>Cumings, Mrs. John Bradley (Florence Briggs Th...</td>\n",
       "      <td>female</td>\n",
       "      <td>38.0</td>\n",
       "      <td>1</td>\n",
       "      <td>0</td>\n",
       "      <td>PC 17599</td>\n",
       "      <td>71.2833</td>\n",
       "      <td>C85</td>\n",
       "      <td>C</td>\n",
       "    </tr>\n",
       "    <tr>\n",
       "      <th>2</th>\n",
       "      <td>3</td>\n",
       "      <td>1</td>\n",
       "      <td>3</td>\n",
       "      <td>Heikkinen, Miss. Laina</td>\n",
       "      <td>female</td>\n",
       "      <td>26.0</td>\n",
       "      <td>0</td>\n",
       "      <td>0</td>\n",
       "      <td>STON/O2. 3101282</td>\n",
       "      <td>7.9250</td>\n",
       "      <td>&lt;NA&gt;</td>\n",
       "      <td>S</td>\n",
       "    </tr>\n",
       "    <tr>\n",
       "      <th>3</th>\n",
       "      <td>4</td>\n",
       "      <td>1</td>\n",
       "      <td>1</td>\n",
       "      <td>Futrelle, Mrs. Jacques Heath (Lily May Peel)</td>\n",
       "      <td>female</td>\n",
       "      <td>35.0</td>\n",
       "      <td>1</td>\n",
       "      <td>0</td>\n",
       "      <td>113803</td>\n",
       "      <td>53.1000</td>\n",
       "      <td>C123</td>\n",
       "      <td>S</td>\n",
       "    </tr>\n",
       "    <tr>\n",
       "      <th>4</th>\n",
       "      <td>5</td>\n",
       "      <td>0</td>\n",
       "      <td>3</td>\n",
       "      <td>Allen, Mr. William Henry</td>\n",
       "      <td>male</td>\n",
       "      <td>35.0</td>\n",
       "      <td>0</td>\n",
       "      <td>0</td>\n",
       "      <td>373450</td>\n",
       "      <td>8.0500</td>\n",
       "      <td>&lt;NA&gt;</td>\n",
       "      <td>S</td>\n",
       "    </tr>\n",
       "  </tbody>\n",
       "</table>\n",
       "</div>"
      ],
      "text/plain": [
       "   PassengerId  Survived  Pclass  \\\n",
       "0            1         0       3   \n",
       "1            2         1       1   \n",
       "2            3         1       3   \n",
       "3            4         1       1   \n",
       "4            5         0       3   \n",
       "\n",
       "                                                Name     Sex   Age  SibSp  \\\n",
       "0                            Braund, Mr. Owen Harris    male  22.0      1   \n",
       "1  Cumings, Mrs. John Bradley (Florence Briggs Th...  female  38.0      1   \n",
       "2                             Heikkinen, Miss. Laina  female  26.0      0   \n",
       "3       Futrelle, Mrs. Jacques Heath (Lily May Peel)  female  35.0      1   \n",
       "4                           Allen, Mr. William Henry    male  35.0      0   \n",
       "\n",
       "   Parch            Ticket     Fare Cabin Embarked  \n",
       "0      0         A/5 21171   7.2500  <NA>        S  \n",
       "1      0          PC 17599  71.2833   C85        C  \n",
       "2      0  STON/O2. 3101282   7.9250  <NA>        S  \n",
       "3      0            113803  53.1000  C123        S  \n",
       "4      0            373450   8.0500  <NA>        S  "
      ]
     },
     "execution_count": 53,
     "metadata": {},
     "output_type": "execute_result"
    }
   ],
   "source": [
    "titanic_pl_df.to_pandas(use_pyarrow_extension_array=True).head()"
   ]
  },
  {
   "cell_type": "code",
   "execution_count": 54,
   "id": "753eead9",
   "metadata": {},
   "outputs": [
    {
     "data": {
      "text/plain": [
       "PassengerId           int64[pyarrow]\n",
       "Survived              int64[pyarrow]\n",
       "Pclass                int64[pyarrow]\n",
       "Name           large_string[pyarrow]\n",
       "Sex            large_string[pyarrow]\n",
       "Age                  double[pyarrow]\n",
       "SibSp                 int64[pyarrow]\n",
       "Parch                 int64[pyarrow]\n",
       "Ticket         large_string[pyarrow]\n",
       "Fare                 double[pyarrow]\n",
       "Cabin          large_string[pyarrow]\n",
       "Embarked       large_string[pyarrow]\n",
       "dtype: object"
      ]
     },
     "execution_count": 54,
     "metadata": {},
     "output_type": "execute_result"
    }
   ],
   "source": [
    "titanic_pl_df.to_pandas(use_pyarrow_extension_array=True).dtypes"
   ]
  },
  {
   "cell_type": "markdown",
   "id": "2282a935",
   "metadata": {},
   "source": [
    "# Indexing, slicing, filtering"
   ]
  },
  {
   "cell_type": "code",
   "execution_count": null,
   "id": "fbc9bbd6",
   "metadata": {},
   "outputs": [],
   "source": []
  }
 ],
 "metadata": {
  "kernelspec": {
   "display_name": "Python 3 (ipykernel)",
   "language": "python",
   "name": "python3"
  },
  "language_info": {
   "codemirror_mode": {
    "name": "ipython",
    "version": 3
   },
   "file_extension": ".py",
   "mimetype": "text/x-python",
   "name": "python",
   "nbconvert_exporter": "python",
   "pygments_lexer": "ipython3",
   "version": "3.11.3"
  }
 },
 "nbformat": 4,
 "nbformat_minor": 5
}
